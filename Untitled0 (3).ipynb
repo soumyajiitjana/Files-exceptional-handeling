{
  "nbformat": 4,
  "nbformat_minor": 0,
  "metadata": {
    "colab": {
      "provenance": []
    },
    "kernelspec": {
      "name": "python3",
      "display_name": "Python 3"
    },
    "language_info": {
      "name": "python"
    }
  },
  "cells": [
    {
      "cell_type": "code",
      "execution_count": null,
      "metadata": {
        "id": "U2oyZ0X0lZ81"
      },
      "outputs": [],
      "source": []
    },
    {
      "cell_type": "markdown",
      "source": [
        "1.\tWhat is the difference between interpreted and compiled languages?\n",
        "\n",
        "Interpreted languages execute code line by line at runtime (e.g., Python, JavaScript).\n",
        "Compiled languages convert the entire code into machine code before execution (e.g., C, C++)\n",
        "\n",
        "2.\tWhat is exception handling in Python?\n",
        "\n",
        "It is a mechanism to handle runtime errors using try, except, finally, and else blocks.\n",
        "\n",
        "\n",
        "3.\tWhat is the purpose of the finally block in exception handling?\n",
        "\n",
        "It executes code regardless of whether an exception occurs, often used for cleanup operations.\n",
        "\n",
        "4.\tWhat is logging in Python?\n",
        "Logging records runtime events/errors in a program, making debugging easier.\n",
        "\n",
        "\n",
        "5.\tWhat is the significance of the_del__ method in Python?\n",
        "\n",
        "It is a destructor method that runs when an object is deleted to free resources.\n",
        "\n",
        "6.\tWhat is the difference between import and from… import in Python?\n",
        "\n",
        "import module_name imports the entire module.\n",
        "from module_name import function_name imports a specific function/class.\n",
        "\n",
        "7.\tHow can you handle multiple exceptions in Python?\n",
        "\n",
        "Using multiple except blocks or catching multiple exceptions in one block:\n",
        "\n",
        "try:\n",
        "    # Code that may raise exceptions\n",
        "except (TypeError, ValueError) as e:\n",
        "    print(f\"Error: {e}\")\n",
        "\n",
        "\n",
        "8.\tWhat is the purpose of the with statement when handling files in Python?\n",
        "\n",
        "It automatically closes the file after execution, preventing memory leaks.\n",
        "\n",
        "9.\tWhat is the difference between multithreading and multiprocessing?\n",
        "\n",
        "Multithreading: Multiple threads share the same memory space.\n",
        "Multiprocessing: Multiple processes run separately, using their own memory.\n",
        "\n",
        "10.\tWhat are the advantages of using logging in a program?\n",
        "\n",
        "Debugging assistance\n",
        "Error tracking\n",
        "Storing execution history\n",
        "\n",
        "\n",
        "11.\tWhat is memory management in Python?\n",
        "\n",
        "Python automatically manages memory allocation and deallocation using a garbage collector.\n",
        "\n",
        "12.\tWhat are the basic steps involved in exception handling in Python?\n",
        "\n",
        "Use try to wrap risky code.\n",
        "Handle errors using except.\n",
        "Use finally for cleanup (optional).\n",
        "Optionally use else if no exceptions occur.\n",
        "\n",
        "\n",
        "13.\tWhy is memory management important in Python?\n",
        "\n",
        "Efficient memory management prevents memory leaks and improves performance.\n",
        "\n",
        "14.\tWhat is the role of try and except in exception handling?\n",
        "\n",
        "try: Defines a block of code that may cause an exception.\n",
        "except: Handles exceptions when they occur.\n",
        "\n",
        "\n",
        "15.\tHow does Python’s garbage collection system work?\n",
        "\n",
        "It automatically deallocates unused objects using reference counting and cyclic garbage collection.\n",
        "\n",
        "16.\tWhat is the purpose of the else block in exception handling?\n",
        "\n",
        "It runs when no exceptions occur inside the try block.\n",
        "\n",
        "\n",
        "17.\tWhat are the common logging levels in Python?\n",
        "\n",
        "DEBUG\n",
        "INFO\n",
        "WARNING\n",
        "ERROR\n",
        "CRITICAL\n",
        "\n",
        "18.\tWhat is the difference between os.fork() and multiprocessing in Python?\n",
        "\n",
        "os.fork(): Only available on Unix, directly creates a child process.\n",
        "multiprocessing: Works on all platforms, provides better process management.\n",
        "\n",
        "\n",
        "19.\tWhat is the importance of closing a file in Python?\n",
        "\n",
        "It frees system resources and ensures data integrity.\n",
        "\n",
        "20.\tWhat is the difference between file.read() and file.readline() in Python?\n",
        "\n",
        "file.read(): Reads the entire file.\n",
        "file.readline(): Reads only one line at a time.\n",
        "\n",
        "21.\tWhat is the logging module in Python used for?\n",
        "\n",
        "It provides a flexible framework to log messages at different levels.\n",
        "\n",
        "22.\tWhat is the os module in Python used for in file handling?\n",
        "\n",
        "It provides functions to interact with the file system, such as file creation, deletion, and path handling.\n",
        "\n",
        "\n",
        "23.\tWhat are the challenges associated with memory management in Python?\n",
        "\n",
        "Reference cycles\n",
        "High memory consumption\n",
        "Delayed garbage collection\n",
        "\n",
        "24.\tHow do you raise an exception manually in Python?\n",
        "\n",
        "Using the raise keyword:\n",
        "\n",
        "raise ValueError(\"Invalid input\")\n",
        "\n",
        "\n",
        "\n",
        "25.\tWhy is it important to use multithreading in certain applications?\n",
        "\n",
        "Multithreading is useful for I/O-bound tasks like web scraping, network calls, and file I/O, improving performance.\n",
        "\n"
      ],
      "metadata": {
        "id": "CHEQIBdWl4jS"
      }
    },
    {
      "cell_type": "markdown",
      "source": [
        "1"
      ],
      "metadata": {
        "id": "2iElxyv80qmM"
      }
    },
    {
      "cell_type": "code",
      "source": [
        "with open(\"example.txt\", \"w\") as file:\n",
        "    file.write(\"Hello, this is a test.\")\n"
      ],
      "metadata": {
        "id": "YyeQjRX-0rZ7"
      },
      "execution_count": null,
      "outputs": []
    },
    {
      "cell_type": "markdown",
      "source": [
        "2"
      ],
      "metadata": {
        "id": "FWH4K1Ye3gb8"
      }
    },
    {
      "cell_type": "code",
      "source": [
        "with open(\"example.txt\", \"r\") as file:\n",
        "    for line in file:\n",
        "        print(line.strip())  # `strip()` removes trailing newline characters\n"
      ],
      "metadata": {
        "colab": {
          "base_uri": "https://localhost:8080/"
        },
        "id": "gnGGuyzv3g27",
        "outputId": "5a5b8b8d-83f1-4b8a-ae44-343c4f46051d"
      },
      "execution_count": null,
      "outputs": [
        {
          "output_type": "stream",
          "name": "stdout",
          "text": [
            "Hello, this is a test.\n"
          ]
        }
      ]
    },
    {
      "cell_type": "markdown",
      "source": [
        "3"
      ],
      "metadata": {
        "id": "T9BfONMT3il7"
      }
    },
    {
      "cell_type": "code",
      "source": [
        "try:\n",
        "    with open(\"non_existent_file.txt\", \"r\") as file:\n",
        "        content = file.read()\n",
        "except FileNotFoundError:\n",
        "    print(\"Error: The file does not exist.\")\n"
      ],
      "metadata": {
        "colab": {
          "base_uri": "https://localhost:8080/"
        },
        "id": "eFh5TEAH3jOb",
        "outputId": "8eb938e7-18aa-4be9-b607-10bce831d1d5"
      },
      "execution_count": null,
      "outputs": [
        {
          "output_type": "stream",
          "name": "stdout",
          "text": [
            "Error: The file does not exist.\n"
          ]
        }
      ]
    },
    {
      "cell_type": "markdown",
      "source": [
        "4"
      ],
      "metadata": {
        "id": "vnrOKV1Y3lsD"
      }
    },
    {
      "cell_type": "code",
      "source": [
        "def copy_file(source_file, destination_file):\n",
        "    \"\"\"\n",
        "    Copies the content of a source file to a destination file.\n",
        "\n",
        "    Args:\n",
        "        source_file (str): The path to the source file.\n",
        "        destination_file (str): The path to the destination file.\n",
        "    \"\"\"\n",
        "    try:\n",
        "        with open(source_file, 'r') as source:\n",
        "            content = source.read()\n",
        "        with open(destination_file, 'w') as destination:\n",
        "            destination.write(content)\n",
        "        print(f\"File '{source_file}' successfully copied to '{destination_file}'.\")\n",
        "\n",
        "    except FileNotFoundError:\n",
        "        print(f\"Error: One or both files not found.\")\n",
        "    except Exception as e:\n",
        "        print(f\"An error occurred: {e}\")\n",
        "\n",
        "# Example usage:\n",
        "source_filename = \"source.txt\"\n",
        "destination_filename = \"destination.txt\"\n",
        "\n",
        "# Create a sample source file for demonstration:\n",
        "with open(source_filename, \"w\") as f:\n",
        "    f.write(\"This is some sample text.\\nAnother line of text.\\nAnd a third line.\")\n",
        "\n",
        "copy_file(source_filename, destination_filename)\n",
        "\n",
        "# Verify the content of the destination file:\n",
        "try:\n",
        "    with open(destination_filename, 'r') as destination:\n",
        "        print(\"\\nContents of destination.txt:\")\n",
        "        print(destination.read())\n",
        "except FileNotFoundError:\n",
        "    print(\"Destination file not found during verification.\")"
      ],
      "metadata": {
        "colab": {
          "base_uri": "https://localhost:8080/"
        },
        "id": "3yyBFTdf3mPL",
        "outputId": "4e4297ca-9c43-4922-e395-1b985da6658d"
      },
      "execution_count": null,
      "outputs": [
        {
          "output_type": "stream",
          "name": "stdout",
          "text": [
            "File 'source.txt' successfully copied to 'destination.txt'.\n",
            "\n",
            "Contents of destination.txt:\n",
            "This is some sample text.\n",
            "Another line of text.\n",
            "And a third line.\n"
          ]
        }
      ]
    },
    {
      "cell_type": "markdown",
      "source": [
        "5"
      ],
      "metadata": {
        "id": "2OY9dux8JjHV"
      }
    },
    {
      "cell_type": "code",
      "source": [
        "try:\n",
        "    result = 10 / 0\n",
        "except ZeroDivisionError:\n",
        "    print(\"Error: Division by zero is not allowed.\")\n"
      ],
      "metadata": {
        "colab": {
          "base_uri": "https://localhost:8080/"
        },
        "id": "FDFRbwpOJjsl",
        "outputId": "82071b4f-3410-49e2-a37d-acb8900e7b33"
      },
      "execution_count": null,
      "outputs": [
        {
          "output_type": "stream",
          "name": "stdout",
          "text": [
            "Error: Division by zero is not allowed.\n"
          ]
        }
      ]
    },
    {
      "cell_type": "markdown",
      "source": [
        "6"
      ],
      "metadata": {
        "id": "7QjO7-q4Jl7k"
      }
    },
    {
      "cell_type": "code",
      "source": [
        "import logging\n",
        "\n",
        "logging.basicConfig(filename=\"error.log\", level=logging.ERROR)\n",
        "\n",
        "try:\n",
        "    result = 10 / 0\n",
        "except ZeroDivisionError as e:\n",
        "    logging.error(f\"Error occurred: {e}\")\n"
      ],
      "metadata": {
        "colab": {
          "base_uri": "https://localhost:8080/"
        },
        "id": "bPFSrjAmJmZ9",
        "outputId": "cf66e3b0-907c-4f72-d10f-4891f572f6b4"
      },
      "execution_count": null,
      "outputs": [
        {
          "output_type": "stream",
          "name": "stderr",
          "text": [
            "ERROR:root:Error occurred: division by zero\n"
          ]
        }
      ]
    },
    {
      "cell_type": "markdown",
      "source": [
        "7"
      ],
      "metadata": {
        "id": "DatB3X2yJoQN"
      }
    },
    {
      "cell_type": "code",
      "source": [
        "import logging\n",
        "\n",
        "logging.basicConfig(filename=\"app.log\", level=logging.DEBUG,\n",
        "                    format=\"%(levelname)s - %(message)s\")\n",
        "\n",
        "logging.info(\"This is an INFO message.\")\n",
        "logging.warning(\"This is a WARNING message.\")\n",
        "logging.error(\"This is an ERROR message.\")\n"
      ],
      "metadata": {
        "colab": {
          "base_uri": "https://localhost:8080/"
        },
        "id": "IizTmkhfJo21",
        "outputId": "c96c2eb7-b992-42d3-da81-3843d5e210a9"
      },
      "execution_count": null,
      "outputs": [
        {
          "output_type": "stream",
          "name": "stderr",
          "text": [
            "WARNING:root:This is a WARNING message.\n",
            "ERROR:root:This is an ERROR message.\n"
          ]
        }
      ]
    },
    {
      "cell_type": "markdown",
      "source": [
        "8"
      ],
      "metadata": {
        "id": "tZiJ5AnqNjpl"
      }
    },
    {
      "cell_type": "code",
      "source": [
        "try:\n",
        "    with open(\"non_existent.txt\", \"r\") as file:\n",
        "        content = file.read()\n",
        "except FileNotFoundError:\n",
        "    print(\"Error: File not found.\")\n"
      ],
      "metadata": {
        "colab": {
          "base_uri": "https://localhost:8080/"
        },
        "id": "G6K83oAiNkTt",
        "outputId": "52d7ea1d-b1a4-45bb-da9f-18f0fc67fe3f"
      },
      "execution_count": null,
      "outputs": [
        {
          "output_type": "stream",
          "name": "stdout",
          "text": [
            "Error: File not found.\n"
          ]
        }
      ]
    },
    {
      "cell_type": "markdown",
      "source": [
        "9"
      ],
      "metadata": {
        "id": "zEkI4r25NpkF"
      }
    },
    {
      "cell_type": "code",
      "source": [
        "with open(\"example.txt\", \"r\") as file:\n",
        "    lines = file.readlines()  # Reads all lines into a list\n",
        "print(lines)\n"
      ],
      "metadata": {
        "colab": {
          "base_uri": "https://localhost:8080/"
        },
        "id": "q2EkCEsBNrA9",
        "outputId": "ac770f58-727b-40d5-9f5b-4f652bc7c421"
      },
      "execution_count": null,
      "outputs": [
        {
          "output_type": "stream",
          "name": "stdout",
          "text": [
            "['Hello, this is a test.']\n"
          ]
        }
      ]
    },
    {
      "cell_type": "markdown",
      "source": [
        "10"
      ],
      "metadata": {
        "id": "OrB2ySB-NvPV"
      }
    },
    {
      "cell_type": "code",
      "source": [
        "with open(\"example.txt\", \"a\") as file:\n",
        "    file.write(\"\\nAppending new data.\")\n"
      ],
      "metadata": {
        "id": "EiT_5Bh0NwO9"
      },
      "execution_count": null,
      "outputs": []
    },
    {
      "cell_type": "markdown",
      "source": [
        "11"
      ],
      "metadata": {
        "id": "5MPjNkScNz99"
      }
    },
    {
      "cell_type": "code",
      "source": [
        "data = {\"name\": \"Alice\"}\n",
        "try:\n",
        "    print(data[\"age\"])  # KeyError\n",
        "except KeyError:\n",
        "    print(\"Error: Key not found.\")\n"
      ],
      "metadata": {
        "colab": {
          "base_uri": "https://localhost:8080/"
        },
        "id": "cU-0TZ7IN0tt",
        "outputId": "d7f0aeeb-7b4e-4349-9901-a86f43b0092b"
      },
      "execution_count": null,
      "outputs": [
        {
          "output_type": "stream",
          "name": "stdout",
          "text": [
            "Error: Key not found.\n"
          ]
        }
      ]
    },
    {
      "cell_type": "markdown",
      "source": [
        "12"
      ],
      "metadata": {
        "id": "Z8CfnNC-N9RN"
      }
    },
    {
      "cell_type": "code",
      "source": [
        "try:\n",
        "    num = int(\"abc\")  # ValueError\n",
        "    result = 10 / 0  # ZeroDivisionError\n",
        "except ValueError:\n",
        "    print(\"Error: Invalid input type.\")\n",
        "except ZeroDivisionError:\n",
        "    print(\"Error: Division by zero.\")\n"
      ],
      "metadata": {
        "colab": {
          "base_uri": "https://localhost:8080/"
        },
        "id": "EoFKIr_pN-AP",
        "outputId": "e7c2c0bc-e82b-4036-8dbf-7dffab5245be"
      },
      "execution_count": null,
      "outputs": [
        {
          "output_type": "stream",
          "name": "stdout",
          "text": [
            "Error: Invalid input type.\n"
          ]
        }
      ]
    },
    {
      "cell_type": "markdown",
      "source": [
        "13"
      ],
      "metadata": {
        "id": "OPpfQ3kTOAQV"
      }
    },
    {
      "cell_type": "code",
      "source": [
        "import os\n",
        "\n",
        "if os.path.exists(\"example.txt\"):\n",
        "    with open(\"example.txt\", \"r\") as file:\n",
        "        print(file.read())\n",
        "else:\n",
        "    print(\"File does not exist.\")\n"
      ],
      "metadata": {
        "colab": {
          "base_uri": "https://localhost:8080/"
        },
        "id": "z7FCA0oVOBEt",
        "outputId": "f9964dc4-ca71-4333-8f1b-ba3a90e70975"
      },
      "execution_count": null,
      "outputs": [
        {
          "output_type": "stream",
          "name": "stdout",
          "text": [
            "Hello, this is a test.\n",
            "Appending new data.\n",
            "Appending new data.\n"
          ]
        }
      ]
    },
    {
      "cell_type": "markdown",
      "source": [
        "14"
      ],
      "metadata": {
        "id": "BLNauPbCOC5F"
      }
    },
    {
      "cell_type": "code",
      "source": [
        "import logging\n",
        "\n",
        "logging.basicConfig(filename=\"logfile.log\", level=logging.DEBUG)\n",
        "\n",
        "logging.info(\"This is an informational message.\")\n",
        "logging.error(\"This is an error message.\")\n"
      ],
      "metadata": {
        "colab": {
          "base_uri": "https://localhost:8080/"
        },
        "id": "sti6-IwjODa9",
        "outputId": "88083149-9433-4343-ebe7-98b28e54a409"
      },
      "execution_count": null,
      "outputs": [
        {
          "output_type": "stream",
          "name": "stderr",
          "text": [
            "ERROR:root:This is an error message.\n"
          ]
        }
      ]
    },
    {
      "cell_type": "markdown",
      "source": [
        "15"
      ],
      "metadata": {
        "id": "drPmQpcrOGCd"
      }
    },
    {
      "cell_type": "code",
      "source": [
        "with open(\"example.txt\", \"r\") as file:\n",
        "    content = file.read()\n",
        "    if content:\n",
        "        print(content)\n",
        "    else:\n",
        "        print(\"File is empty.\")\n"
      ],
      "metadata": {
        "colab": {
          "base_uri": "https://localhost:8080/"
        },
        "id": "rLCBmSZCOGv9",
        "outputId": "1f242b9f-dbed-48a4-de54-ee770379e980"
      },
      "execution_count": null,
      "outputs": [
        {
          "output_type": "stream",
          "name": "stdout",
          "text": [
            "Hello, this is a test.\n",
            "Appending new data.\n",
            "Appending new data.\n"
          ]
        }
      ]
    },
    {
      "cell_type": "markdown",
      "source": [
        "16"
      ],
      "metadata": {
        "id": "CYFBQi4oOJaN"
      }
    },
    {
      "cell_type": "code",
      "source": [
        "import memory_profiler\n",
        "import random\n",
        "import time\n",
        "\n",
        "@memory_profiler.profile\n",
        "def create_large_list():\n",
        "    \"\"\"Creates a large list and performs some operations.\"\"\"\n",
        "    large_list = [random.randint(0, 1000) for _ in range(1000000)]  # 1 million integers\n",
        "    squared_list = [x**2 for x in large_list]\n",
        "    time.sleep(1) # simulate some work\n",
        "    return squared_list\n",
        "\n",
        "if __name__ == \"__main__\":\n",
        "    result = create_large_list()\n",
        "    print(f\"List length: {len(result)}\")"
      ],
      "metadata": {
        "colab": {
          "base_uri": "https://localhost:8080/",
          "height": 383
        },
        "id": "R_mbgH62OKZF",
        "outputId": "689890d3-5e91-4581-feff-7b0d24f9594a"
      },
      "execution_count": null,
      "outputs": [
        {
          "output_type": "error",
          "ename": "ModuleNotFoundError",
          "evalue": "No module named 'memory_profiler'",
          "traceback": [
            "\u001b[0;31m---------------------------------------------------------------------------\u001b[0m",
            "\u001b[0;31mModuleNotFoundError\u001b[0m                       Traceback (most recent call last)",
            "\u001b[0;32m<ipython-input-29-5c1ad684fa6c>\u001b[0m in \u001b[0;36m<cell line: 0>\u001b[0;34m()\u001b[0m\n\u001b[0;32m----> 1\u001b[0;31m \u001b[0;32mimport\u001b[0m \u001b[0mmemory_profiler\u001b[0m\u001b[0;34m\u001b[0m\u001b[0;34m\u001b[0m\u001b[0m\n\u001b[0m\u001b[1;32m      2\u001b[0m \u001b[0;32mimport\u001b[0m \u001b[0mrandom\u001b[0m\u001b[0;34m\u001b[0m\u001b[0;34m\u001b[0m\u001b[0m\n\u001b[1;32m      3\u001b[0m \u001b[0;32mimport\u001b[0m \u001b[0mtime\u001b[0m\u001b[0;34m\u001b[0m\u001b[0;34m\u001b[0m\u001b[0m\n\u001b[1;32m      4\u001b[0m \u001b[0;34m\u001b[0m\u001b[0m\n\u001b[1;32m      5\u001b[0m \u001b[0;34m@\u001b[0m\u001b[0mmemory_profiler\u001b[0m\u001b[0;34m.\u001b[0m\u001b[0mprofile\u001b[0m\u001b[0;34m\u001b[0m\u001b[0;34m\u001b[0m\u001b[0m\n",
            "\u001b[0;31mModuleNotFoundError\u001b[0m: No module named 'memory_profiler'",
            "",
            "\u001b[0;31m---------------------------------------------------------------------------\u001b[0;32m\nNOTE: If your import is failing due to a missing package, you can\nmanually install dependencies using either !pip or !apt.\n\nTo view examples of installing some common dependencies, click the\n\"Open Examples\" button below.\n\u001b[0;31m---------------------------------------------------------------------------\u001b[0m\n"
          ],
          "errorDetails": {
            "actions": [
              {
                "action": "open_url",
                "actionText": "Open Examples",
                "url": "/notebooks/snippets/importing_libraries.ipynb"
              }
            ]
          }
        }
      ]
    },
    {
      "cell_type": "markdown",
      "source": [
        "17"
      ],
      "metadata": {
        "id": "7XgPsmCrOfWt"
      }
    },
    {
      "cell_type": "code",
      "source": [
        "numbers = [1, 2, 3, 4, 5]\n",
        "\n",
        "with open(\"numbers.txt\", \"w\") as file:\n",
        "    for num in numbers:\n",
        "        file.write(f\"{num}\\n\")\n"
      ],
      "metadata": {
        "id": "plY4JZcrOe9m"
      },
      "execution_count": null,
      "outputs": []
    },
    {
      "cell_type": "markdown",
      "source": [
        "18"
      ],
      "metadata": {
        "id": "aeJbJN6_OhpV"
      }
    },
    {
      "cell_type": "code",
      "source": [
        "import logging\n",
        "from logging.handlers import RotatingFileHandler\n",
        "\n",
        "handler = RotatingFileHandler(\"app.log\", maxBytes=1048576, backupCount=5)\n",
        "logging.basicConfig(handlers=[handler], level=logging.INFO)\n",
        "\n",
        "logging.info(\"This is a test log message.\")\n"
      ],
      "metadata": {
        "id": "dYKRF7sfOiMV"
      },
      "execution_count": null,
      "outputs": []
    },
    {
      "cell_type": "markdown",
      "source": [
        "19"
      ],
      "metadata": {
        "id": "rF4ZvjtFOj1-"
      }
    },
    {
      "cell_type": "code",
      "source": [
        "data = {\"name\": \"Alice\"}\n",
        "lst = [1, 2, 3]\n",
        "\n",
        "try:\n",
        "    print(data[\"age\"])  # KeyError\n",
        "    print(lst[5])       # IndexError\n",
        "except (KeyError, IndexError) as e:\n",
        "    print(f\"Error: {e}\")\n"
      ],
      "metadata": {
        "colab": {
          "base_uri": "https://localhost:8080/"
        },
        "id": "tzXd4IaIOki9",
        "outputId": "cecc3c1d-7814-44e2-8c95-62a09feeeaa9"
      },
      "execution_count": null,
      "outputs": [
        {
          "output_type": "stream",
          "name": "stdout",
          "text": [
            "Error: 'age'\n"
          ]
        }
      ]
    },
    {
      "cell_type": "markdown",
      "source": [
        "20"
      ],
      "metadata": {
        "id": "1s4nXHPiOmgV"
      }
    },
    {
      "cell_type": "code",
      "source": [
        "with open(\"example.txt\", \"r\") as file:\n",
        "    content = file.read()\n",
        "print(content)\n"
      ],
      "metadata": {
        "colab": {
          "base_uri": "https://localhost:8080/"
        },
        "id": "MuOf-WahOoO4",
        "outputId": "c6343460-2d4b-4e2c-df18-b2e2fc1561c1"
      },
      "execution_count": null,
      "outputs": [
        {
          "output_type": "stream",
          "name": "stdout",
          "text": [
            "Hello, this is a test.\n",
            "Appending new data.\n",
            "Appending new data.\n"
          ]
        }
      ]
    },
    {
      "cell_type": "markdown",
      "source": [
        "21"
      ],
      "metadata": {
        "id": "nflYU58uOqjV"
      }
    },
    {
      "cell_type": "code",
      "source": [
        "word_to_count = \"Python\"\n",
        "\n",
        "with open(\"example.txt\", \"r\") as file:\n",
        "    content = file.read()\n",
        "\n",
        "count = content.lower().split().count(word_to_count.lower())\n",
        "print(f\"'{word_to_count}' appears {count} times in the file.\")\n"
      ],
      "metadata": {
        "colab": {
          "base_uri": "https://localhost:8080/"
        },
        "id": "k1K1mK-oOsLV",
        "outputId": "fd38fd89-9d1b-41da-a330-7a12fdcb9e89"
      },
      "execution_count": null,
      "outputs": [
        {
          "output_type": "stream",
          "name": "stdout",
          "text": [
            "'Python' appears 0 times in the file.\n"
          ]
        }
      ]
    },
    {
      "cell_type": "markdown",
      "source": [
        "22"
      ],
      "metadata": {
        "id": "eVE4e1TBOuA1"
      }
    },
    {
      "cell_type": "code",
      "source": [
        "import os\n",
        "\n",
        "if os.path.exists(\"example.txt\") and os.path.getsize(\"example.txt\") > 0:\n",
        "    with open(\"example.txt\", \"r\") as file:\n",
        "        print(file.read())\n",
        "else:\n",
        "    print(\"File is empty or does not exist.\")\n"
      ],
      "metadata": {
        "colab": {
          "base_uri": "https://localhost:8080/"
        },
        "id": "LFQNab3COut1",
        "outputId": "826cc41f-14e5-4d38-9c17-5aae50ce2971"
      },
      "execution_count": null,
      "outputs": [
        {
          "output_type": "stream",
          "name": "stdout",
          "text": [
            "Hello, this is a test.\n",
            "Appending new data.\n",
            "Appending new data.\n"
          ]
        }
      ]
    },
    {
      "cell_type": "markdown",
      "source": [
        "23"
      ],
      "metadata": {
        "id": "CblzOZGeO5g1"
      }
    },
    {
      "cell_type": "code",
      "source": [
        "import logging\n",
        "\n",
        "logging.basicConfig(filename=\"file_error.log\", level=logging.ERROR)\n",
        "\n",
        "try:\n",
        "    with open(\"non_existent.txt\", \"r\") as file:\n",
        "        content = file.read()\n",
        "except FileNotFoundError as e:\n",
        "    logging.error(f\"File error: {e}\")\n"
      ],
      "metadata": {
        "colab": {
          "base_uri": "https://localhost:8080/"
        },
        "id": "GuDSoDMYO6I1",
        "outputId": "6cbede8e-e89f-43af-8f7c-b5c93a0c1c7b"
      },
      "execution_count": 38,
      "outputs": [
        {
          "output_type": "stream",
          "name": "stderr",
          "text": [
            "ERROR:root:File error: [Errno 2] No such file or directory: 'non_existent.txt'\n"
          ]
        }
      ]
    }
  ]
}